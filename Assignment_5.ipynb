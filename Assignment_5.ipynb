{
 "cells": [
  {
   "cell_type": "markdown",
   "id": "6379edc4",
   "metadata": {},
   "source": [
    "## Assignment_5"
   ]
  },
  {
   "cell_type": "markdown",
   "id": "06edaf02",
   "metadata": {},
   "source": [
    "### 1. What does an empty dictionary&#39;s code look like?"
   ]
  },
  {
   "cell_type": "markdown",
   "id": "2a1b964e",
   "metadata": {},
   "source": [
    "> Empty dictionary looks like `{}`"
   ]
  },
  {
   "cell_type": "markdown",
   "id": "af9efdc0",
   "metadata": {},
   "source": [
    "### 2. What is the value of a dictionary value with the key &#39;foo&#39; and the value 42?\n",
    "> 42"
   ]
  },
  {
   "cell_type": "markdown",
   "id": "1707f754",
   "metadata": {},
   "source": [
    "### 3. What is the most significant distinction between a dictionary and a list?\n",
    "> The list is an ordered collection of data, whereas the dictionaries store the data in the form of key-value pairs using the hashtable structure"
   ]
  },
  {
   "cell_type": "markdown",
   "id": "141f1f0f",
   "metadata": {},
   "source": [
    "### 4. What happens if you try to access spam[&#39;foo&#39;] if spam is {&#39;bar&#39;: 100}?\n",
    "> it will throw a KeyError, as 'foo' key is not available in dictionary"
   ]
  },
  {
   "cell_type": "markdown",
   "id": "f168afbd",
   "metadata": {},
   "source": [
    "### 5. If a dictionary is stored in spam, what is the difference between the expressions &#39;cat&#39; in spam and &#39;cat&#39; in spam.keys()?\n",
    "> There is no difference. The in operator checks whether a value exists as a key in the dictionary. 'cat' in spam checks whether there is a 'cat' key in the dictionary, while 'cat' in spam. values() checks whether there is a value 'cat' for one of the keys in spam .\n"
   ]
  },
  {
   "cell_type": "markdown",
   "id": "1d447b77",
   "metadata": {},
   "source": [
    "### 6. If a dictionary is stored in spam, what is the difference between the expressions &#39;cat&#39; in spam and &#39;cat&#39; in spam.values()?\n",
    "> There is no difference. The in operator checks whether a value exists as a key in the dictionary. 'cat' in spam checks whether there is a 'cat' key in the dictionary, while 'cat' in spam. values() checks whether there is a value 'cat' for one of the keys in spam .\n"
   ]
  },
  {
   "cell_type": "markdown",
   "id": "efa15c4d",
   "metadata": {},
   "source": [
    "### 7. What is a shortcut for the following code?\n",
    "### `if 'color' not in spam:`\n",
    "### `spam['color'] = 'black'`\n",
    "> Answer:  `spam.setdefault('color','black')`"
   ]
  },
  {
   "cell_type": "markdown",
   "id": "2648d3d1",
   "metadata": {},
   "source": [
    "### 8. How do you &quot;pretty print&quot; dictionary values using which module and function?\n",
    "> pprint is a Python module that provides the capability to pretty print Python data types to be more readable. This module also supports pretty-printing dictionary.\n",
    "Within the pprint module there is a function with the same name pprint(), which is the function used to pretty-print the given string or object."
   ]
  }
 ],
 "metadata": {
  "kernelspec": {
   "display_name": "Python 3 (ipykernel)",
   "language": "python",
   "name": "python3"
  },
  "language_info": {
   "codemirror_mode": {
    "name": "ipython",
    "version": 3
   },
   "file_extension": ".py",
   "mimetype": "text/x-python",
   "name": "python",
   "nbconvert_exporter": "python",
   "pygments_lexer": "ipython3",
   "version": "3.9.12"
  }
 },
 "nbformat": 4,
 "nbformat_minor": 5
}
