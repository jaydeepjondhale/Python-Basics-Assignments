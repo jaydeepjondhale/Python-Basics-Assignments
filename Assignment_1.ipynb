{
  "nbformat": 4,
  "nbformat_minor": 0,
  "metadata": {
    "colab": {
      "name": "Assignment_1.ipynb",
      "provenance": [],
      "collapsed_sections": []
    },
    "kernelspec": {
      "name": "python3",
      "display_name": "Python 3"
    },
    "language_info": {
      "name": "python"
    }
  },
  "cells": [
    {
      "cell_type": "markdown",
      "source": [
        "# Assignment_1\n",
        "Python Basics\n",
        "\n"
      ],
      "metadata": {
        "id": "_weK9JnlCY6i"
      }
    },
    {
      "cell_type": "markdown",
      "source": [
        "###Question 1. In the below elements which of them are values or an expression? eg:- values can be integer or string and expressions will be mathematical operators.\n"
      ],
      "metadata": {
        "id": "ZeAGR-VVpD_C"
      }
    },
    {
      "cell_type": "markdown",
      "source": [
        "```\n",
        "Answer :\n",
        "        *       = expression\n",
        "        'Hello' = value\n",
        "        -87.8   = value\n",
        "        -       = expression\n",
        "        /       = expression\n",
        "           +    = expression\n",
        "        6       = value\n"
      ],
      "metadata": {
        "id": "ik0TBNSqCkX-"
      }
    },
    {
      "cell_type": "markdown",
      "source": [
        "###Question 2. What is the difference between string and variable?"
      ],
      "metadata": {
        "id": "k_JrrW6AqI3A"
      }
    },
    {
      "cell_type": "markdown",
      "source": [
        "**Answer** :   \n",
        "String : A string is value representing text. its a type of information \n",
        "which can be stored in variable,enclosed with single or double quote </br>\n",
        "\n",
        " Variable : A variable is a store of information or a name that can refer to any value, the value can be \n",
        "                  of any type i.e. Integer, Floating Point, String, Boolean \n",
        "\n",
        "```\n",
        "e.g. \n",
        "            my_var = \"Hello\"         \n",
        "```\n",
        " in above line of code, my_var is variable which is storing a string value\n",
        "          and \"Hello\" is string, enclosed in quotes."
      ],
      "metadata": {
        "id": "hryjHNosCxa9"
      }
    },
    {
      "cell_type": "markdown",
      "source": [
        "### Question 4. What is an expression made up of? What do all expressions do?"
      ],
      "metadata": {
        "id": "B4MJ8lW7v_hh"
      }
    },
    {
      "cell_type": "markdown",
      "source": [
        "**Answer :**\n",
        "</br>\n",
        "An expression is a combination of operators and operands that is interpreted to produce some other value. \n",
        "In any programming language, an expression is evaluated as per the precedence of its operators"
      ],
      "metadata": {
        "id": "tQlPgfVdzijd"
      }
    },
    {
      "cell_type": "markdown",
      "source": [
        "### Question 5. This assignment statements, like spam = 10. What is the difference between an expression and a statement?"
      ],
      "metadata": {
        "id": "Wm47e2ZRwdhN"
      }
    },
    {
      "cell_type": "markdown",
      "source": [
        "An Expression always evaluates to a value. And, A statement does something, like creating a variable or displaying a value, it only does whatever the statement says"
      ],
      "metadata": {
        "id": "cR2Apvxgw_KE"
      }
    },
    {
      "cell_type": "code",
      "source": [
        "spam = 10"
      ],
      "metadata": {
        "id": "pz7c9mAgwszr"
      },
      "execution_count": 5,
      "outputs": []
    },
    {
      "cell_type": "markdown",
      "source": [
        "the above is a statement which creates a variable and assings value to it"
      ],
      "metadata": {
        "id": "eWJlLEIxxIjz"
      }
    },
    {
      "cell_type": "code",
      "source": [
        "spam = spam + 10"
      ],
      "metadata": {
        "id": "Fh0HcU6zxHV1"
      },
      "execution_count": 6,
      "outputs": []
    },
    {
      "cell_type": "markdown",
      "source": [
        "the above line is a expression, which evaluate to a value. it adds 10 to the existing value of spam\n"
      ],
      "metadata": {
        "id": "wxcF6qvYxd7X"
      }
    },
    {
      "cell_type": "markdown",
      "source": [
        "### Question 6. After running the following code, what does the variable bacon contain?\n",
        "bacon = 22 </br>\n",
        "bacon + 1"
      ],
      "metadata": {
        "id": "H5vO7kTix3Gl"
      }
    },
    {
      "cell_type": "markdown",
      "source": [
        "**Answer :** </br>\n",
        "when we run first line </br>\n",
        "i.e. bacon = 22 </br>\n",
        "bacon will contain value as 22 </br>\n",
        "after running second line </br>\n",
        "i.e. bacon + 1\n",
        "this will add one to the value of bacon (22 + 1)\n",
        "but as the result is not stored anywhere so the actual value of bacon remains unchanges.</br>\n",
        "at last bacon will contain 22"
      ],
      "metadata": {
        "id": "R0psSyQ-yQ2G"
      }
    },
    {
      "cell_type": "markdown",
      "source": [
        "### Question 7. What should the values of the following two terms be?\n",
        "</br>\n",
        "'spam' + 'spamspam'  </br>\n",
        "'spam' * 3"
      ],
      "metadata": {
        "id": "Vp9Xplz07a35"
      }
    },
    {
      "cell_type": "markdown",
      "source": [
        "**Answer:** </br> \n",
        "the values of above terms are as follows : </br>\n",
        " \n",
        "```\n",
        "1.   'spam' + 'spamspam' = 'spamspamspam'\n",
        "2.   'spam' * 3 = 'spamspamspam'\n",
        "```\n",
        "\n",
        "\n",
        "\n"
      ],
      "metadata": {
        "id": "u1GrcDjc78a1"
      }
    },
    {
      "cell_type": "markdown",
      "source": [
        "### Question 8. Why is eggs a valid variable name while 100 is invalid?"
      ],
      "metadata": {
        "id": "s4ip3bHJ9O43"
      }
    },
    {
      "cell_type": "markdown",
      "source": [
        "**Answer** : </br>\n",
        "To answer this question we need to know about naming convention in python.</br>\n",
        "```\n",
        "There are some rules to declare a variable, shown below</br>\n",
        "\n",
        "\n",
        "*   A variable name must start with a letter or the underscore character\n",
        "*   A variable name cannot start with a number\n",
        "*   A variable name can only contain alpha-numeric characters and underscores (A-z, 0-9, and _ )\n",
        "*   Variable names are case-sensitive (age, Age and AGE are three different variables)\n",
        "```\n",
        "Considering above rules, eggs is valid variable name while 100 is invalid\n",
        "\n",
        "\n",
        "\n"
      ],
      "metadata": {
        "id": "5tdVF7Ze9Spr"
      }
    },
    {
      "cell_type": "markdown",
      "source": [
        "### Question 9. What three functions can be used to get the integer, floating-point number, or string version of a value?"
      ],
      "metadata": {
        "id": "RF27NKaS_No2"
      }
    },
    {
      "cell_type": "markdown",
      "source": [
        "**Answer** : </br>\n",
        "```\n",
        "The int(), float(), and str() functions will evaluate to the integer, floating-point number, and string versions of the value passed to them.\n",
        "```\n"
      ],
      "metadata": {
        "id": "cxCl4XOb_TOH"
      }
    },
    {
      "cell_type": "markdown",
      "source": [
        "### Question 10. Why does this expression cause an error? How can you fix it?\n",
        "'I have eaten' + 99 + 'burritos'"
      ],
      "metadata": {
        "id": "Ukj9s0rsAFgL"
      }
    },
    {
      "cell_type": "markdown",
      "source": [
        "**Answer** : </br>\n",
        "  if we run this expression it will throw a TypeError </br>\n",
        "      because we are trying to concatinate a string with a interger value.      </br>\n",
        "      we can not perform operation on different type of data, so we need to convert the integer value to string value to fix this issue.</br>\n",
        "      by doing following code we can fix this issue </br>\n",
        "      ```\n",
        "      'I have eaten' + str(99) + 'burritos'\n",
        "      ```"
      ],
      "metadata": {
        "id": "SSza2TXlAkta"
      }
    }
  ]
}