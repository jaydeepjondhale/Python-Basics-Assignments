{
 "cells": [
  {
   "cell_type": "markdown",
   "id": "48262fab",
   "metadata": {},
   "source": [
    "# Assignment 4"
   ]
  },
  {
   "cell_type": "markdown",
   "id": "5b63a685",
   "metadata": {},
   "source": [
    "### Q1. What exactly is []?\n"
   ]
  },
  {
   "cell_type": "markdown",
   "id": "033cbc54",
   "metadata": {},
   "source": [
    "it's a empty list."
   ]
  },
  {
   "cell_type": "markdown",
   "id": "c7933ccd",
   "metadata": {},
   "source": [
    "### Q2. In a list of values stored in a variable called spam, how would you assign the value &#39;hello&#39; as the third value? (Assume [2, 4, 6, 8, 10] are in spam.)"
   ]
  },
  {
   "cell_type": "code",
   "execution_count": 2,
   "id": "577ac00d",
   "metadata": {},
   "outputs": [],
   "source": [
    "spam = [2,4,6,8,10]\n",
    "spam[2] = 'hello'"
   ]
  },
  {
   "cell_type": "code",
   "execution_count": 3,
   "id": "0718a24f",
   "metadata": {},
   "outputs": [
    {
     "data": {
      "text/plain": [
       "[2, 4, 'hello', 8, 10]"
      ]
     },
     "execution_count": 3,
     "metadata": {},
     "output_type": "execute_result"
    }
   ],
   "source": [
    "spam"
   ]
  },
  {
   "cell_type": "markdown",
   "id": "6cac978c",
   "metadata": {},
   "source": [
    "### Let's pretend the spam includes the list ['a','b','c','d'] for the next three queries."
   ]
  },
  {
   "cell_type": "markdown",
   "id": "79c3cc8d",
   "metadata": {},
   "source": [
    "a.What is the value of spam[int(int('3' * 2) / 11)]\n",
    "> 'd'\n",
    "\n",
    "b. What is the value of spam[-1]?\n",
    "> d\n",
    "\n",
    "c. What is the value of spam[:2]?\n",
    "> ['a', 'b']\n",
    "\n"
   ]
  },
  {
   "cell_type": "markdown",
   "id": "7591e51c",
   "metadata": {},
   "source": [
    "### Let's pretend bacon has the list [3.14,'cat',11,'cat', True] for the next three questions."
   ]
  },
  {
   "cell_type": "markdown",
   "id": "27d783dd",
   "metadata": {},
   "source": [
    "a. What is the value of bacon.index('cat')?\n",
    "> 1\n",
    "\n",
    "b. How does bacon.append(99) change the look of the list value in bacon?\n",
    "> [3.14,'cat',11,'cat', True, 99]\n",
    "\n",
    "c. How does bacon.remove('cat') change the look of the list in bacon?\n",
    "> [3.14,11,'cat', True, 99]"
   ]
  },
  {
   "cell_type": "markdown",
   "id": "02ed2fcf",
   "metadata": {},
   "source": [
    "### Q. What are the list concatenation and list replication operators?\n",
    "> The operator for list concatenation is +, while the operator for replication is *.\n"
   ]
  },
  {
   "cell_type": "markdown",
   "id": "d235b6e0",
   "metadata": {},
   "source": [
    "### Q. What is difference between the list methods append() and insert()?\n",
    "> The only difference between append() and insert() is that insert function allows us to add a specific element at a specified index of the list unlike append() where we can add the element only at end of the list"
   ]
  },
  {
   "cell_type": "markdown",
   "id": "f2e91a14",
   "metadata": {},
   "source": [
    "### Q. What are the two methods for removing items from a list?\n",
    "> two ways in which you can Remove elements from List:\n",
    "      Using the remove() method.\n",
    "      Using the list object's pop() method"
   ]
  },
  {
   "cell_type": "markdown",
   "id": "90a70e54",
   "metadata": {},
   "source": [
    "### Q. Describe how list values and string values are identical.\n",
    "> List and string both are used to store value /data. Both are sequence"
   ]
  },
  {
   "cell_type": "markdown",
   "id": "1af63083",
   "metadata": {},
   "source": [
    "### Q. What's the difference between tuples and lists?\n",
    "> The key difference between the tuples and lists is that while the tuples are immutable objects the lists are mutable. This means that tuples cannot be changed while the lists can be modified.\n",
    "As lists are mutable, Python needs to allocate an extra memory block in case there is a need to extend the size of the list object after it is created. In contrary, as tuples are immutable and fixed size, Python allocates just the minimum memory block required for the data"
   ]
  },
  {
   "cell_type": "markdown",
   "id": "edc1a532",
   "metadata": {},
   "source": [
    "### Q. How do you type a tuple value that only contains the integer 42?\n",
    "> `(42,)`"
   ]
  },
  {
   "cell_type": "markdown",
   "id": "5b9323f9",
   "metadata": {},
   "source": [
    "### Q. How do you get a list value&#39;s tuple form? How do you get a tuple value&#39;s list form?\n",
    "> list value's tuple form `tuple(list1)` and tuple value's list form `list(tuple1)`"
   ]
  },
  {
   "cell_type": "markdown",
   "id": "c1e438e5",
   "metadata": {},
   "source": [
    "### Q. Variables that &quot;contain&quot; list values are not necessarily lists themselves. Instead, what do they contain?`"
   ]
  },
  {
   "cell_type": "markdown",
   "id": "2b29d600",
   "metadata": {},
   "source": [
    "### Q. How do you distinguish between copy.copy() and copy.deepcopy()?\n",
    "> copy() create reference to original object. If you change copied object - you change the original object. . deepcopy() creates new object and does real copying of original object to new one. Changing new deepcopied object doesn't affect original object."
   ]
  }
 ],
 "metadata": {
  "kernelspec": {
   "display_name": "Python 3 (ipykernel)",
   "language": "python",
   "name": "python3"
  },
  "language_info": {
   "codemirror_mode": {
    "name": "ipython",
    "version": 3
   },
   "file_extension": ".py",
   "mimetype": "text/x-python",
   "name": "python",
   "nbconvert_exporter": "python",
   "pygments_lexer": "ipython3",
   "version": "3.9.12"
  }
 },
 "nbformat": 4,
 "nbformat_minor": 5
}
