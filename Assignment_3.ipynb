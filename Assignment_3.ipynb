{
  "nbformat": 4,
  "nbformat_minor": 0,
  "metadata": {
    "colab": {
      "name": "Assignment_3.ipynb",
      "provenance": []
    },
    "kernelspec": {
      "name": "python3",
      "display_name": "Python 3"
    },
    "language_info": {
      "name": "python"
    }
  },
  "cells": [
    {
      "cell_type": "markdown",
      "source": [
        "### 1. Why are functions advantageous to have in your programs?"
      ],
      "metadata": {
        "id": "8f4enNa79D7Q"
      }
    },
    {
      "cell_type": "markdown",
      "source": [
        "**Answer** : \n",
        "A function is a group of statements that performs a specific task.\n",
        "Functions help break our program into smaller and modular chunks as our program grows larger and larger, functions make more organized and manageable.\n",
        "avoids repetition and make he code reusable.\n"
      ],
      "metadata": {
        "id": "AujJMDRa9i4x"
      }
    },
    {
      "cell_type": "markdown",
      "source": [
        "### 2. When does the code in a function run: when it's specified or when it's called?"
      ],
      "metadata": {
        "id": "VvxR-tD--puC"
      }
    },
    {
      "cell_type": "markdown",
      "source": [
        "**Answer** : \n",
        "\n",
        "The code in a function runs when its called."
      ],
      "metadata": {
        "id": "wEiERUWv-saD"
      }
    },
    {
      "cell_type": "markdown",
      "source": [
        "### 3. What statement creates a function?"
      ],
      "metadata": {
        "id": "hCSjdmZ_-8ta"
      }
    },
    {
      "cell_type": "markdown",
      "source": [
        "**Answer** : \n",
        "\n",
        "`def` keyword  is statement used to create a function\n",
        "\n",
        "for example let's create a function called test1"
      ],
      "metadata": {
        "id": "_Bd-N3Xp_Bmu"
      }
    },
    {
      "cell_type": "code",
      "source": [
        "def test1():\n",
        "   print(\"hello world\")"
      ],
      "metadata": {
        "id": "CtdlkM4N9LL-"
      },
      "execution_count": 5,
      "outputs": []
    },
    {
      "cell_type": "markdown",
      "source": [
        "### 4. What is the difference between a function and a function call?"
      ],
      "metadata": {
        "id": "bp9yqRm8_6Vu"
      }
    },
    {
      "cell_type": "markdown",
      "source": [
        "**Answer** : \n",
        "\n",
        "The difference between the function and function call is, A function is procedure to achieve a particular result while function call is using this function to achive that task.\n",
        "\n",
        "Eg. Creating a function"
      ],
      "metadata": {
        "id": "zomaamKW-8Kc"
      }
    },
    {
      "cell_type": "code",
      "source": [
        "def test1():\n",
        "  print(\"HelloWorld\")"
      ],
      "metadata": {
        "id": "urkDnqnNAsLu"
      },
      "execution_count": 6,
      "outputs": []
    },
    {
      "cell_type": "markdown",
      "source": [
        "Calling a Fucntion"
      ],
      "metadata": {
        "id": "UTgKN_NXBcoc"
      }
    },
    {
      "cell_type": "code",
      "source": [
        "test1()"
      ],
      "metadata": {
        "colab": {
          "base_uri": "https://localhost:8080/"
        },
        "id": "UQvarF5gBb0-",
        "outputId": "5f0e6b3a-e7f3-45e2-cc30-9130c272a1eb"
      },
      "execution_count": 7,
      "outputs": [
        {
          "output_type": "stream",
          "name": "stdout",
          "text": [
            "HelloWorld\n"
          ]
        }
      ]
    },
    {
      "cell_type": "markdown",
      "source": [
        "### 5. How many global scopes are there in a Python program? How many local scopes?"
      ],
      "metadata": {
        "id": "FdVwgUgxBn7D"
      }
    },
    {
      "cell_type": "markdown",
      "source": [
        "**Answer** : \n",
        "\n",
        "Global variables are those which are not defined inside any function and have a global scope whereas local variables are those which are defined inside a function and its scope is limited to that function only\n",
        "\n",
        "There's only one global Python scope per program execution. This scope remains in existence until the program terminates and all its names are forgotten\n",
        "\n",
        "and the local scopes are depend on the program.\n",
        "\n"
      ],
      "metadata": {
        "id": "joRsscnOCXKy"
      }
    },
    {
      "cell_type": "markdown",
      "source": [
        "### 6. What happens to variables in a local scope when the function call returns?"
      ],
      "metadata": {
        "id": "k3xUVTWCCrLl"
      }
    },
    {
      "cell_type": "markdown",
      "source": [
        "**Answer** : \n",
        "\n",
        "When the function call returns or execution of function is terminated, the local variable are destroyed and no more accessible outside the function"
      ],
      "metadata": {
        "id": "g5Ro14XjC4JS"
      }
    },
    {
      "cell_type": "markdown",
      "source": [
        "### 7. What is the concept of a return value? Is it possible to have a return value in an expression?"
      ],
      "metadata": {
        "id": "FnkQw43EDO3l"
      }
    },
    {
      "cell_type": "markdown",
      "source": [
        "**Answer** : \n",
        "\n",
        "A return statement is used to end the execution of the function call and “returns” the result (value of the expression following the return keyword) to the caller. The statements after the return statements are not executed. If the return statement is without any expression, then the special value None is returned."
      ],
      "metadata": {
        "id": "TO9_WnnCDY7B"
      }
    },
    {
      "cell_type": "markdown",
      "source": [
        "### 8. If a function does not have a return statement, what is the return value of a call to that function?"
      ],
      "metadata": {
        "id": "XtaDzwikDtEn"
      }
    },
    {
      "cell_type": "markdown",
      "source": [
        "**Answer** : \n",
        "\n",
        "if a function does not have a return statement then it will return `None` as value to caller"
      ],
      "metadata": {
        "id": "x7i91n6NEJDO"
      }
    },
    {
      "cell_type": "markdown",
      "source": [
        "### 9. How do you make a function variable refer to the global variable?"
      ],
      "metadata": {
        "id": "jLYVFUzWEfnP"
      }
    },
    {
      "cell_type": "markdown",
      "source": [
        "**Answer** : \n",
        "\n",
        "If you want to refer to a global variable in a function, you can use the global keyword to declare which variables are global\n",
        "\n",
        "eg."
      ],
      "metadata": {
        "id": "ONLGkyKmF0tn"
      }
    },
    {
      "cell_type": "code",
      "source": [
        "a=10\n",
        "def test():\n",
        "  global a\n",
        "  a=a+2\n",
        "  print(a)\n",
        "test()"
      ],
      "metadata": {
        "colab": {
          "base_uri": "https://localhost:8080/"
        },
        "id": "X_z7dIjlEe7a",
        "outputId": "e601130b-feb9-490e-f3bf-84df9e75bbfb"
      },
      "execution_count": 17,
      "outputs": [
        {
          "output_type": "stream",
          "name": "stdout",
          "text": [
            "12\n"
          ]
        }
      ]
    },
    {
      "cell_type": "markdown",
      "source": [
        "### 10. What is the data type of None?"
      ],
      "metadata": {
        "id": "4EiL4rZ6GOtq"
      }
    },
    {
      "cell_type": "markdown",
      "source": [
        "**Answer** : \n",
        "\n",
        "The None keyword is used to define a null value, or no value at all. None is not the same as 0, False, or an empty string. None is a data type of its own (NoneType) and only None can be None.\n"
      ],
      "metadata": {
        "id": "0aSK7RCVGVgJ"
      }
    },
    {
      "cell_type": "markdown",
      "source": [
        "### 11. What does the sentence import areallyourpetsnamederic do?"
      ],
      "metadata": {
        "id": "y0eSF00lGqXu"
      }
    },
    {
      "cell_type": "markdown",
      "source": [
        "**Answer** : \n",
        "\n",
        "`import areallyourpetsnamederic` this statement will make the code available from `areallyourpetsnamederic`. allows us to reuse the code"
      ],
      "metadata": {
        "id": "UlTgHzacGxe2"
      }
    },
    {
      "cell_type": "markdown",
      "source": [
        "### 12. If you had a bacon() feature in a spam module, what would you call it after importing spam?"
      ],
      "metadata": {
        "id": "XwUrinmZHrzI"
      }
    },
    {
      "cell_type": "markdown",
      "source": [
        "**Answer** : \n",
        "\n",
        "This function can be called with spam. bacon()"
      ],
      "metadata": {
        "id": "V1ri7VQ1IMYf"
      }
    },
    {
      "cell_type": "markdown",
      "source": [
        "### 13. What can you do to save a programme from crashing if it encounters an error?"
      ],
      "metadata": {
        "id": "-a9y1Mx-IOSi"
      }
    },
    {
      "cell_type": "markdown",
      "source": [
        "**Answer** : \n",
        "\n",
        "By using Exception handling we can save a program from crashing if it encounters an error.\n"
      ],
      "metadata": {
        "id": "jWsW3I7OIzgy"
      }
    },
    {
      "cell_type": "markdown",
      "source": [
        "### 14. What is the purpose of the try clause? What is the purpose of the except clause?"
      ],
      "metadata": {
        "id": "p6jb4gslJG-V"
      }
    },
    {
      "cell_type": "markdown",
      "source": [
        "**Answer** : \n",
        "\n",
        "The `try` block lets you test a block of code for errors.\n",
        "\n",
        "The `except` block lets you handle the error.\n",
        "\n"
      ],
      "metadata": {
        "id": "RIj-cGOiJm7D"
      }
    },
    {
      "cell_type": "code",
      "source": [
        "try:\n",
        "  print(x)\n",
        "except:\n",
        "  print(\"An exception occurred\")"
      ],
      "metadata": {
        "colab": {
          "base_uri": "https://localhost:8080/"
        },
        "id": "zCAQMPu5JGNc",
        "outputId": "b7aa8e93-fcac-41a0-82a3-95802f3071bf"
      },
      "execution_count": 19,
      "outputs": [
        {
          "output_type": "stream",
          "name": "stdout",
          "text": [
            "An exception occurred\n"
          ]
        }
      ]
    }
  ]
}