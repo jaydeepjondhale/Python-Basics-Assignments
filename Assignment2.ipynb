{
  "nbformat": 4,
  "nbformat_minor": 0,
  "metadata": {
    "colab": {
      "name": "Assignment2.ipynb",
      "provenance": [],
      "collapsed_sections": [
        "geGZljQOiK-0",
        "5nr57g02jBO2",
        "TRmNYDc4krAx",
        "qePkg4WmodRB",
        "RIeq_WT7qRs1"
      ]
    },
    "kernelspec": {
      "name": "python3",
      "display_name": "Python 3"
    },
    "language_info": {
      "name": "python"
    }
  },
  "cells": [
    {
      "cell_type": "markdown",
      "source": [
        "# Assignment 2"
      ],
      "metadata": {
        "id": "y3LxJF4fiGw3"
      }
    },
    {
      "cell_type": "markdown",
      "source": [
        "### Q1. What are the two values of the Boolean data type? How do you write them?\n"
      ],
      "metadata": {
        "id": "geGZljQOiK-0"
      }
    },
    {
      "cell_type": "markdown",
      "source": [
        "**Answer** : Boolean data types have two values `True` and `False`\n",
        "         in python, can be written as follows\n",
        "         \n",
        "\n",
        "```\n",
        "a = True\n",
        "b = False\n",
        "```\n",
        "\n"
      ],
      "metadata": {
        "id": "y_O-L1HyiTR1"
      }
    },
    {
      "cell_type": "markdown",
      "source": [
        "### Q2. What are the three different types of Boolean operators?"
      ],
      "metadata": {
        "id": "5nr57g02jBO2"
      }
    },
    {
      "cell_type": "markdown",
      "source": [
        "**Answer** : Following are the three types of Boolean Operators\n",
        "\n",
        "\n",
        "*   and \n",
        "*   or\n",
        "*   not\n",
        "\n"
      ],
      "metadata": {
        "id": "RTBWKGt6jKQS"
      }
    },
    {
      "cell_type": "markdown",
      "source": [
        "### Q3. Make a list of each Boolean operator's truth tables (i.e. every possible combination of Boolean values for the operator and what it evaluate )."
      ],
      "metadata": {
        "id": "TRmNYDc4krAx"
      }
    },
    {
      "cell_type": "markdown",
      "source": [
        "\n",
        "**Answer** : Truth Table for each boolean Operator\n",
        "\n",
        "  and operator</br>\n",
        "\n",
        "      A  |  B  | (A and B)\n",
        "      ------------------\n",
        "      0  |  0  | 0\n",
        "      0  |  1  | 0\n",
        "      1  |  0  | 0\n",
        "      1  |  1  | 1\n",
        "      \n",
        "\n",
        "\n",
        "   or operator</br>\n",
        "      A  |  B  | (A or B)\n",
        "      ------------------\n",
        "      0  |  0  | 0\n",
        "      0  |  1  | 1\n",
        "      1  |  0  | 1\n",
        "      1  |  1  | 1\n",
        "\n",
        "  not operator</br>\n",
        "      A  |  (not A)\n",
        "      ------------------\n",
        "      0  |  1   \n",
        "      1  |  0  \n",
        "    \n",
        "\n"
      ],
      "metadata": {
        "id": "Nc3wQspvk390"
      }
    },
    {
      "cell_type": "markdown",
      "source": [
        "### Q.4 What are the values of the following expressions?\n",
        "\n",
        "\n"
      ],
      "metadata": {
        "id": "qePkg4WmodRB"
      }
    },
    {
      "cell_type": "markdown",
      "source": [
        "**Answer** : \n",
        "\n",
        "(5 > 4) and (3 == 5)\n",
        " -> `False`\n",
        "\n",
        "not (5 > 4)\n",
        " -> `False`\n",
        "\n",
        "(5 > 4) or (3 == 5)\n",
        " -> `True`\n",
        "\n",
        "not ((5 > 4) or (3 == 5))\n",
        " -> `False`\n",
        "\n",
        "(True and True) and (True == False)\n",
        " -> `False`\n",
        "\n",
        "(not False) or (not True)\n",
        " -> `True`"
      ],
      "metadata": {
        "id": "Qzo-CJ4dov6O"
      }
    },
    {
      "cell_type": "markdown",
      "source": [
        "### Q5. What are the six comparison operators?"
      ],
      "metadata": {
        "id": "RIeq_WT7qRs1"
      }
    },
    {
      "cell_type": "markdown",
      "source": [
        "**Answer** : \n",
        "Comparison Operators\n",
        "\n",
        " * '=='\tEqual\t\n",
        " * '!='\tNot equal\t\t\n",
        " * '>'\tGreater than\t\n",
        " * '<'\tLess than\t\t\n",
        " * '>='\tGreater than or equal to\t\t\n",
        " * '<='\tLess than or equal to\t\t\n"
      ],
      "metadata": {
        "id": "DN0GnjG4qcbS"
      }
    },
    {
      "cell_type": "markdown",
      "source": [
        "### Q6.How do you tell the difference between the equal to and assignment operators?Describe a condition and when you would use one."
      ],
      "metadata": {
        "id": "KfowH0qdq7z1"
      }
    },
    {
      "cell_type": "markdown",
      "source": [
        "**Answer** :\n",
        "\n",
        "**1.Assignment Operator (=)**\n",
        "\n",
        "`=` is an Assignment Operator\n",
        "\n",
        "`=` assigns the value of right side expression’s or variable’s value to the left side variable.\n",
        "\n",
        "eg.\n",
        "\n",
        "\n",
        "```\n",
        "a = 10\n",
        "b = 20\n",
        "```\n",
        "the above two line of code will assign 10 and 20 to a and b resp.\n",
        "\n",
        "**2.Equal To Operator (==)**\n",
        "\n",
        "`==` is an comparison operators.\n",
        "\n",
        "`==` compares value of left and side expressions, return `True` if they are equal or return `False`.\n",
        "\n",
        "eg.\n",
        "\n",
        "\n",
        "```\n",
        "a = 10\n",
        "b = 20\n",
        "a == b\n",
        "```\n",
        "\n",
        "third line of the code, compares a and b \n"
      ],
      "metadata": {
        "id": "ENqFGhitrJJe"
      }
    },
    {
      "cell_type": "code",
      "source": [
        ""
      ],
      "metadata": {
        "id": "1yC04HiVqbyo"
      },
      "execution_count": null,
      "outputs": []
    },
    {
      "cell_type": "markdown",
      "source": [
        "### Q7. Identify the three blocks in this code:"
      ],
      "metadata": {
        "id": "xW3ggmXtwKNr"
      }
    },
    {
      "cell_type": "code",
      "source": [
        "spam = 0\n",
        "#Block 1\n",
        "if spam == 10:\n",
        "  print('eggs')\n",
        " \n",
        "# Black 2\n",
        "if spam > 5:\n",
        "  print('bacon')\n",
        "\n",
        "#Block 3 \n",
        "else:\n",
        "  print('ham')\n",
        "  print('spam')\n",
        "  print('spam')"
      ],
      "metadata": {
        "colab": {
          "base_uri": "https://localhost:8080/"
        },
        "id": "HifiyIv-k6IB",
        "outputId": "b1b33387-daf4-4586-ec38-f5c9add61eaf"
      },
      "execution_count": null,
      "outputs": [
        {
          "output_type": "stream",
          "name": "stdout",
          "text": [
            "ham\n",
            "spam\n",
            "spam\n"
          ]
        }
      ]
    },
    {
      "cell_type": "markdown",
      "source": [
        "### Q8. Write code that prints Hello if 1 is stored in spam, prints Howdy if 2 is stored in spam, and prints Greetings! if anything else is stored in spam."
      ],
      "metadata": {
        "id": "oSQCoHb-nPQN"
      }
    },
    {
      "cell_type": "code",
      "source": [
        "spam = int(input(\"Enter a Value:\"))\n",
        "if spam == 1:\n",
        "  print(\"Hello\")\n",
        "elif spam == 2:\n",
        "  print(\"Howdy\")\n",
        "else :\n",
        "  print(\"Greeings!\")"
      ],
      "metadata": {
        "colab": {
          "base_uri": "https://localhost:8080/"
        },
        "id": "gmBQx-jOnOnb",
        "outputId": "143858bb-9630-4da7-a1e1-4eea068dcd87"
      },
      "execution_count": null,
      "outputs": [
        {
          "output_type": "stream",
          "name": "stdout",
          "text": [
            "Enter a Value:23\n",
            "Greeings!\n"
          ]
        }
      ]
    },
    {
      "cell_type": "markdown",
      "source": [
        "### Q9. If your programme is stuck in an endless loop, what keys you’ll press?"
      ],
      "metadata": {
        "id": "piv4YL2qn2dU"
      }
    },
    {
      "cell_type": "markdown",
      "source": [
        "**Answer** : `Ctrl + C` "
      ],
      "metadata": {
        "id": "4sSvBiJcn71u"
      }
    },
    {
      "cell_type": "markdown",
      "source": [
        "### Q10. How can you tell the difference between break and continue?\n"
      ],
      "metadata": {
        "id": "K1_VLfOdoL1f"
      }
    },
    {
      "cell_type": "markdown",
      "source": [
        "**Answer** : \n",
        "\n",
        "`Break` : \n",
        "\n",
        "* It eliminates the execution of remaining iteration of loop\n",
        "*  `break` will resume control of program to the end of loop enclosing that `break`.\n",
        "* It early terminates the loop\n",
        "* The `break` stop the continuation of the loop\n",
        "\n",
        "`continue`  : \n",
        "\n",
        "* It will terminate only the current iteration of loop.\n",
        "* The `continue` will resume the control of the program to next iteration of that loop enclosing `continue`\n",
        "* It causes the early execution of the next iteration\n",
        "* The `continue` does not stop the continuation of loop and it stops the current.\n"
      ],
      "metadata": {
        "id": "kkXt6OJvoPyl"
      }
    },
    {
      "cell_type": "markdown",
      "source": [
        "### Q.11 In a for loop, what is the difference between range(10), range(0, 10), and range(0, 10, 1)?"
      ],
      "metadata": {
        "id": "AR6Qy3YVqUwA"
      }
    },
    {
      "cell_type": "markdown",
      "source": [
        "**Answer** : \n",
        "\n",
        "Syntax of Range :\n",
        "\n",
        "`range(start, stop, step)`\n",
        "\n",
        "* start ->\tOptional. An integer number specifying at which position to start. Default is 0\n",
        "* stop ->\tRequired. An integer number specifying at which position to stop (not included)\n",
        "* step ->\tOptional. An integer number specifying the incrementation. Default is 1\n",
        "\n",
        "\n",
        "from the above syntax we can say that `range(10)`, `range(0,10)` and `range(0,10,1)` will give same output. the only difference is that providing arguments if we not give any argument the its will take default one.\n"
      ],
      "metadata": {
        "id": "sz8toGGsqlIO"
      }
    },
    {
      "cell_type": "markdown",
      "source": [
        "### Q12. Write a short program that prints the numbers 1 to 10 using a for loop. Then write an equivalent program that prints the numbers 1 to 10 using a while loop"
      ],
      "metadata": {
        "id": "vrxmn1A2xibv"
      }
    },
    {
      "cell_type": "markdown",
      "source": [
        ""
      ],
      "metadata": {
        "id": "69ViSPS7xlMP"
      }
    },
    {
      "cell_type": "code",
      "source": [
        "# program to prints the numbers 1 to 10 using a for loop.\n",
        "for i in range(1,11):\n",
        "  print(i)"
      ],
      "metadata": {
        "id": "BZ6FXjF_n132"
      },
      "execution_count": null,
      "outputs": []
    },
    {
      "cell_type": "code",
      "source": [
        "# program to prints the numbers 1 to 10 using a while loop\n",
        "i=1\n",
        "while(i<11):\n",
        "  print(i)\n",
        "  i+=1\n"
      ],
      "metadata": {
        "id": "MvPquhX7nrbi"
      },
      "execution_count": null,
      "outputs": []
    },
    {
      "cell_type": "markdown",
      "source": [
        "### Q.13 If you had a function named bacon() inside a module named spam, how would you call it after importing spam?"
      ],
      "metadata": {
        "id": "guNja7W1yLpp"
      }
    },
    {
      "cell_type": "markdown",
      "source": [
        "we can import function as follows:"
      ],
      "metadata": {
        "id": "t45URNx58sBB"
      }
    },
    {
      "cell_type": "code",
      "source": [
        "import spam\n",
        "spam.bacon()"
      ],
      "metadata": {
        "id": "hDXWAimUyEM0"
      },
      "execution_count": null,
      "outputs": []
    }
  ]
}